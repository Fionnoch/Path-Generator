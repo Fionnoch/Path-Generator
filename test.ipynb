{
 "metadata": {
  "language_info": {
   "codemirror_mode": {
    "name": "ipython",
    "version": 3
   },
   "file_extension": ".py",
   "mimetype": "text/x-python",
   "name": "python",
   "nbconvert_exporter": "python",
   "pygments_lexer": "ipython3",
   "version": "3.9.0"
  },
  "orig_nbformat": 4,
  "kernelspec": {
   "name": "python3",
   "display_name": "Python 3.9.0 64-bit ('venv': venv)"
  },
  "interpreter": {
   "hash": "e90d98693f0e7cb04b58f2eb46a78b921559b4665aba0001e8a039f2334440d3"
  }
 },
 "nbformat": 4,
 "nbformat_minor": 2,
 "cells": [
  {
   "cell_type": "code",
   "execution_count": 3,
   "metadata": {},
   "outputs": [
    {
     "output_type": "execute_result",
     "data": {
      "text/plain": [
       "<drawSvg.drawing.Drawing at 0x1ea1b546850>"
      ],
      "text/html": "<img src=\"data:image/svg+xml;base64,PD94bWwgdmVyc2lvbj0iMS4wIiBlbmNvZGluZz0iVVRGLTgiPz4KPHN2ZyB4bWxucz0iaHR0cDovL3d3dy53My5vcmcvMjAwMC9zdmciIHhtbG5zOnhsaW5rPSJodHRwOi8vd3d3LnczLm9yZy8xOTk5L3hsaW5rIgogICAgIHdpZHRoPSI0MDAiIGhlaWdodD0iMjAwIiB2aWV3Qm94PSItMTAwLjAgLTUwLjAgMjAwIDEwMCI+CjxkZWZzPgo8L2RlZnM+CjxwYXRoIGQ9Ik0tODAsNDUgTDcwLDQ5IEw5NSwtNDkgTC05MCwtNDAiIGZpbGw9IiNlZWVlMDAiIHN0cm9rZT0iYmxhY2siIC8+CjxwYXRoIGQ9Ik0yMCw0MCBMMjAsMjcgTDAsMjAiIHN0cm9rZT0icmVkIiBzdHJva2Utd2lkdGg9IjIiIGZpbGw9Im5vbmUiIC8+Cjwvc3ZnPg==\">"
     },
     "metadata": {},
     "execution_count": 3
    }
   ],
   "source": [
    "import drawSvg as draw\n",
    "\n",
    "d = draw.Drawing(200, 100, origin='center', displayInline=False)\n",
    "\n",
    "# Draw an irregular polygon\n",
    "d.append(draw.Lines(-80, -45,\n",
    "                    70, -49,\n",
    "                    95, 49,\n",
    "                    -90, 40,\n",
    "                    close=False,\n",
    "            fill='#eeee00',\n",
    "            stroke='black'))\n",
    "\n",
    "# Draw a rectangle\n",
    "r = draw.Rectangle(-80,0,40,50, fill='#1248ff')\n",
    "r.appendTitle(\"Our first rectangle\")  # Add a tooltip\n",
    "#d.append(r)\n",
    "\n",
    "# Draw a circle\n",
    "#d.append(draw.Circle(-40, -10, 30, fill='red', stroke_width=2, stroke='black'))\n",
    "\n",
    "# Draw an arbitrary path (a triangle in this case)\n",
    "p = draw.Path(stroke_width=2, stroke='lime',\n",
    "              fill='black', fill_opacity=0.2)\n",
    "p.M(-10, 20)  # Start path at point (-10, 20)\n",
    "p.C(30, -10, 30, 50, 70, 20)  # Draw a curve to (70, 20)\n",
    "#d.append(p)\n",
    "\n",
    "# Draw text\n",
    "#d.append(draw.Text('Basic text', 8, -10, 35, fill='blue'))  # Text with font size 8\n",
    "#d.append(draw.Text('Path text', 8, path=p, text_anchor='start', valign='middle'))\n",
    "#d.append(draw.Text(['Multi-line', 'text'], 8, path=p, text_anchor='end'))\n",
    "\n",
    "# Draw multiple circular arcs\n",
    "#d.append(draw.ArcLine(60,-20,20,60,270, stroke='red', stroke_width=5, fill='red', fill_opacity=0.2))\n",
    "#d.append(draw.Arc(60,-20,20,60,270,cw=False, stroke='green', stroke_width=3, fill='none'))\n",
    "#d.append(draw.Arc(60,-20,20,270,60,cw=True, stroke='blue', stroke_width=1, fill='black', fill_opacity=0.3))\n",
    "\n",
    "# Draw arrows\n",
    "#arrow = draw.Marker(-0.1, -0.5, 0.9, 0.5, scale=4, orient='auto')\n",
    "#arrow.append(draw.Lines(-0.1, -0.5, -0.1, 0.5, 0.9, 0, fill='red', close=True))\n",
    "p = draw.Path(stroke='red', stroke_width=2, fill='none') #, marker_end=arrow)  # Add an arrow to the end of a path\n",
    "p.M(20, -40).L(20, -27).L(0, -20)  # Chain multiple path operations\n",
    "d.append(p)\n",
    "#d.append(draw.Line(30, -20, 0, -10, stroke='red', stroke_width=2, fill='none', marker_end=arrow))  # Add an arrow to the end of a line\n",
    "\n",
    "d.setPixelScale(2)  # Set number of pixels per geometry unit\n",
    "#d.setRenderSize(400,200)  # Alternative to setPixelScale\n",
    "#d.saveSvg('example.svg')\n",
    "#d.savePng('example.png')\n",
    "\n",
    "# Display in Jupyter notebook\n",
    "#d.rasterize()  # Display as PNG\n",
    "d  # Display as SVG\n"
   ]
  },
  {
   "cell_type": "code",
   "execution_count": null,
   "metadata": {},
   "outputs": [],
   "source": []
  }
 ]
}